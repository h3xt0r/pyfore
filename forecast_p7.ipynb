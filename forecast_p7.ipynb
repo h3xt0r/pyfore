{
 "cells": [
  {
   "cell_type": "code",
   "execution_count": 1,
   "id": "aebba7dd-ec63-4dac-96f2-1a7cf75f348a",
   "metadata": {},
   "outputs": [
    {
     "name": "stdout",
     "output_type": "stream",
     "text": [
      "scipy: 1.7.2\n",
      "numpy: 1.21.4\n",
      "matplotlib: 3.5.0\n",
      "pandas: 1.3.4\n",
      "statsmodels: 0.13.0\n",
      "sklearn: 1.0.1\n",
      "\n",
      " hola\n"
     ]
    }
   ],
   "source": [
    "### check versions of key python libraries\n",
    "#scipy \n",
    "import scipy\n",
    "print('scipy: %s' % scipy.__version__)\n",
    "#numpy\n",
    "import numpy\n",
    "print('numpy: %s' % numpy.__version__)\n",
    "# matplotlib\n",
    "import matplotlib\n",
    "print('matplotlib: %s' % matplotlib.__version__)\n",
    "# pandas\n",
    "import pandas\n",
    "print('pandas: %s' % pandas.__version__)\n",
    "# statsmodels\n",
    "import statsmodels\n",
    "print('statsmodels: %s' % statsmodels.__version__)\n",
    "# scikit-learn\n",
    "import sklearn\n",
    "print('sklearn: %s' % sklearn.__version__)\n",
    "print (\"\\n hola\")"
   ]
  },
  {
   "cell_type": "markdown",
   "id": "bafe60ca-47aa-4bd1-8386-986c4f590f76",
   "metadata": {},
   "source": [
    "# Vamos a cargar un data set de: \n",
    "\n",
    "https://raw.githubusercontent.com/jbrownlee/Datasets/master/daily-total-female-births.csv\n",
    "\n"
   ]
  },
  {
   "cell_type": "code",
   "execution_count": 2,
   "id": "43846a59-432c-4af1-b07f-2f3a880de399",
   "metadata": {},
   "outputs": [
    {
     "name": "stdout",
     "output_type": "stream",
     "text": [
      "<class 'pandas.core.series.Series'>\n",
      "Date\n",
      "1959-01-01    35\n",
      "1959-01-02    32\n",
      "1959-01-03    30\n",
      "1959-01-04    31\n",
      "1959-01-05    44\n",
      "Name: Births, dtype: int64\n"
     ]
    }
   ],
   "source": [
    "# load dataset using read_csv()\n",
    "from pandas import read_csv\n",
    "series = read_csv('daily-total-female-births.csv', header=0, index_col=0, parse_dates=True,\n",
    "squeeze=True)\n",
    "print(type(series))\n",
    "print(series.head())"
   ]
  },
  {
   "cell_type": "code",
   "execution_count": 3,
   "id": "be2d973c-aa54-4a7b-94e9-657eca70895d",
   "metadata": {},
   "outputs": [
    {
     "name": "stdout",
     "output_type": "stream",
     "text": [
      "Date\n",
      "1959-01-01    35\n",
      "1959-01-02    32\n",
      "1959-01-03    30\n",
      "1959-01-04    31\n",
      "1959-01-05    44\n",
      "1959-01-06    29\n",
      "1959-01-07    45\n",
      "1959-01-08    43\n",
      "1959-01-09    38\n",
      "1959-01-10    27\n",
      "Name: Births, dtype: int64\n",
      "Date\n",
      "1959-12-22    39\n",
      "1959-12-23    40\n",
      "1959-12-24    38\n",
      "1959-12-25    44\n",
      "1959-12-26    34\n",
      "1959-12-27    37\n",
      "1959-12-28    52\n",
      "1959-12-29    48\n",
      "1959-12-30    55\n",
      "1959-12-31    50\n",
      "Name: Births, dtype: int64\n",
      "365\n",
      "Date\n",
      "1959-01-01    35\n",
      "1959-01-02    32\n",
      "1959-01-03    30\n",
      "1959-01-04    31\n",
      "1959-01-05    44\n",
      "1959-01-06    29\n",
      "1959-01-07    45\n",
      "1959-01-08    43\n",
      "1959-01-09    38\n",
      "1959-01-10    27\n",
      "1959-01-11    38\n",
      "1959-01-12    33\n",
      "1959-01-13    55\n",
      "1959-01-14    47\n",
      "1959-01-15    45\n",
      "1959-01-16    37\n",
      "1959-01-17    50\n",
      "1959-01-18    43\n",
      "1959-01-19    41\n",
      "1959-01-20    52\n",
      "1959-01-21    34\n",
      "1959-01-22    53\n",
      "1959-01-23    39\n",
      "1959-01-24    32\n",
      "1959-01-25    37\n",
      "1959-01-26    43\n",
      "1959-01-27    39\n",
      "1959-01-28    35\n",
      "1959-01-29    44\n",
      "1959-01-30    38\n",
      "1959-01-31    24\n",
      "Name: Births, dtype: int64\n",
      "Caracteristicas de la serie\n",
      "count    365.000000\n",
      "mean      41.980822\n",
      "std        7.348257\n",
      "min       23.000000\n",
      "25%       37.000000\n",
      "50%       42.000000\n",
      "75%       46.000000\n",
      "max       73.000000\n",
      "Name: Births, dtype: float64\n"
     ]
    }
   ],
   "source": [
    "print(series.head(10)) #Primeros 10 datos\n",
    "# You can also use the tail() function to get the last n records of the dataset.\n",
    "print(series.tail(10)) #Ultimos 10 datos\n",
    "print(series.size) #total de datos\n",
    "print(series['1959-01']) #Imprimimos los datos para enero\n",
    "#vamos a ver las características de la serie:\n",
    "print(\"Caracteristicas de la serie\")\n",
    "print(series.describe())\n"
   ]
  }
 ],
 "metadata": {
  "kernelspec": {
   "display_name": "Python 3 (ipykernel)",
   "language": "python",
   "name": "python3"
  },
  "language_info": {
   "codemirror_mode": {
    "name": "ipython",
    "version": 3
   },
   "file_extension": ".py",
   "mimetype": "text/x-python",
   "name": "python",
   "nbconvert_exporter": "python",
   "pygments_lexer": "ipython3",
   "version": "3.9.5"
  }
 },
 "nbformat": 4,
 "nbformat_minor": 5
}
