{
 "cells": [
  {
   "cell_type": "code",
   "execution_count": 5,
   "id": "aebba7dd-ec63-4dac-96f2-1a7cf75f348a",
   "metadata": {},
   "outputs": [
    {
     "name": "stdout",
     "output_type": "stream",
     "text": [
      "scipy: 1.7.2\n",
      "numpy: 1.21.4\n",
      "matplotlib: 3.5.0\n",
      "pandas: 1.3.4\n",
      "statsmodels: 0.13.0\n",
      "sklearn: 1.0.1\n"
     ]
    }
   ],
   "source": [
    "### check versions of key python libraries\n",
    "#scipy \n",
    "import scipy\n",
    "print('scipy: %s' % scipy.__version__)\n",
    "#numpy\n",
    "import numpy\n",
    "print('numpy: %s' % numpy.__version__)\n",
    "# matplotlib\n",
    "import matplotlib\n",
    "print('matplotlib: %s' % matplotlib.__version__)\n",
    "# pandas\n",
    "import pandas\n",
    "print('pandas: %s' % pandas.__version__)\n",
    "# statsmodels\n",
    "import statsmodels\n",
    "print('statsmodels: %s' % statsmodels.__version__)\n",
    "# scikit-learn\n",
    "import sklearn\n",
    "print('sklearn: %s' % sklearn.__version__)\n"
   ]
  }
 ],
 "metadata": {
  "kernelspec": {
   "display_name": "Python 3 (ipykernel)",
   "language": "python",
   "name": "python3"
  },
  "language_info": {
   "codemirror_mode": {
    "name": "ipython",
    "version": 3
   },
   "file_extension": ".py",
   "mimetype": "text/x-python",
   "name": "python",
   "nbconvert_exporter": "python",
   "pygments_lexer": "ipython3",
   "version": "3.9.5"
  }
 },
 "nbformat": 4,
 "nbformat_minor": 5
}
